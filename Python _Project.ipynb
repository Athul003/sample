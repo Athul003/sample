{
 "cells": [
  {
   "cell_type": "code",
   "execution_count": 1,
   "metadata": {},
   "outputs": [
    {
     "name": "stdout",
     "output_type": "stream",
     "text": [
      "Requirement already satisfied: firebase in c:\\users\\athul\\anaconda3\\lib\\site-packages (3.0.1)\n",
      "Requirement already satisfied: requests in c:\\users\\athul\\anaconda3\\lib\\site-packages (from firebase) (2.24.0)\n",
      "Requirement already satisfied: certifi>=2017.4.17 in c:\\users\\athul\\anaconda3\\lib\\site-packages (from requests->firebase) (2020.6.20)\n",
      "Requirement already satisfied: urllib3!=1.25.0,!=1.25.1,<1.26,>=1.21.1 in c:\\users\\athul\\anaconda3\\lib\\site-packages (from requests->firebase) (1.25.9)\n",
      "Requirement already satisfied: idna<3,>=2.5 in c:\\users\\athul\\anaconda3\\lib\\site-packages (from requests->firebase) (2.10)\n",
      "Requirement already satisfied: chardet<4,>=3.0.2 in c:\\users\\athul\\anaconda3\\lib\\site-packages (from requests->firebase) (3.0.4)\n"
     ]
    }
   ],
   "source": [
    "!pip install firebase"
   ]
  },
  {
   "cell_type": "code",
   "execution_count": 2,
   "metadata": {},
   "outputs": [],
   "source": [
    "import firebase_admin"
   ]
  },
  {
   "cell_type": "code",
   "execution_count": 3,
   "metadata": {},
   "outputs": [],
   "source": [
    "from firebase_admin import credentials\n",
    "from firebase_admin import firestore"
   ]
  },
  {
   "cell_type": "code",
   "execution_count": 4,
   "metadata": {},
   "outputs": [
    {
     "data": {
      "text/plain": [
       "<firebase_admin.App at 0x282a3838b80>"
      ]
     },
     "execution_count": 4,
     "metadata": {},
     "output_type": "execute_result"
    }
   ],
   "source": [
    "cred = credentials.Certificate(\"python-project-ce41f-firebase-adminsdk-e8kb8-6d8ac0af3e.json\")\n",
    "firebase_admin.initialize_app(cred)"
   ]
  },
  {
   "cell_type": "code",
   "execution_count": 5,
   "metadata": {},
   "outputs": [],
   "source": [
    "db = firestore.client()"
   ]
  },
  {
   "cell_type": "code",
   "execution_count": 6,
   "metadata": {},
   "outputs": [
    {
     "data": {
      "text/plain": [
       "update_time {\n",
       "  seconds: 1608447535\n",
       "  nanos: 895100000\n",
       "}"
      ]
     },
     "execution_count": 6,
     "metadata": {},
     "output_type": "execute_result"
    }
   ],
   "source": [
    "doc_ref = db.collection(u'users').document(u'abc')\n",
    "\n",
    "doc_ref.set({\n",
    "    u'first': u'Faiza',\n",
    "    u'last': u'Gokak',\n",
    "    u'born': 1997\n",
    "})"
   ]
  },
  {
   "cell_type": "code",
   "execution_count": 7,
   "metadata": {},
   "outputs": [],
   "source": [
    "def enterDataInDB():\n",
    "    doc_ref = db.collection(u'new').document()\n",
    "    \n",
    "    name = input(\"Enter Name - \")\n",
    "    lastName = input(\"Enter Last Name - \")\n",
    "    age = int(input(\"Enter Age - \"))\n",
    "    \n",
    "    dit = {}\n",
    "    dit[\"firstName\"] = name\n",
    "    dit[\"lastName\"] = lastName\n",
    "    dit[\"age\"] = age\n",
    "    \n",
    "    doc_ref.set(dit)"
   ]
  },
  {
   "cell_type": "code",
   "execution_count": 8,
   "metadata": {},
   "outputs": [
    {
     "name": "stdout",
     "output_type": "stream",
     "text": [
      "Enter Name - axy\n",
      "Enter Last Name - zz\n",
      "Enter Age - 13\n"
     ]
    }
   ],
   "source": [
    "enterDataInDB()"
   ]
  },
  {
   "cell_type": "code",
   "execution_count": 9,
   "metadata": {},
   "outputs": [
    {
     "name": "stdout",
     "output_type": "stream",
     "text": [
      "Enter Name - kiran\n",
      "Enter Last Name - k\n",
      "Enter Age - 23\n"
     ]
    }
   ],
   "source": [
    "enterDataInDB()"
   ]
  },
  {
   "cell_type": "code",
   "execution_count": 10,
   "metadata": {},
   "outputs": [
    {
     "name": "stdout",
     "output_type": "stream",
     "text": [
      "Enter Name - jai\n",
      "Enter Last Name - lal\n",
      "Enter Age - 24\n"
     ]
    }
   ],
   "source": [
    "enterDataInDB()\n"
   ]
  },
  {
   "cell_type": "code",
   "execution_count": 11,
   "metadata": {},
   "outputs": [
    {
     "name": "stdout",
     "output_type": "stream",
     "text": [
      "Enter Name - abhi\n",
      "Enter Last Name - pp\n",
      "Enter Age - 20\n"
     ]
    }
   ],
   "source": [
    "enterDataInDB()"
   ]
  },
  {
   "cell_type": "code",
   "execution_count": 33,
   "metadata": {},
   "outputs": [
    {
     "name": "stdout",
     "output_type": "stream",
     "text": [
      "ID= 3zBl2oPwqT9Tv8LI6Nud\n",
      "First Name= kiran\n",
      "Last name = k\n",
      "Age= 23\n",
      "----------------\n",
      "----------------\n",
      "ID= 5at5TxPwg4boDarlVcO2\n",
      "First Name= albin\n",
      "Last name = jose\n",
      "Age= 25\n",
      "----------------\n",
      "----------------\n",
      "ID= 5maXV2slut7AtNcQZFUf\n",
      "First Name= alby\n",
      "Last name = arun\n",
      "Age= 25\n",
      "----------------\n",
      "----------------\n",
      "ID= CI3cFkSH86dsOC5V5gXw\n",
      "First Name= ajin\n",
      "Last name = arju\n",
      "Age= 21\n",
      "----------------\n",
      "----------------\n",
      "ID= JIcm1DKi0PQkHnOt7mv1\n",
      "First Name= abhi\n",
      "Last name = pp\n",
      "Age= 20\n",
      "----------------\n",
      "----------------\n",
      "ID= cNz4toVpQpGMk2LxH3R7\n",
      "First Name= jai\n",
      "Last name = lal\n",
      "Age= 28\n",
      "----------------\n",
      "----------------\n",
      "ID= wrSSvLUlCO3V2LHaQgH5\n",
      "First Name= arjith\n",
      "Last name = singh\n",
      "Age= 26\n",
      "----------------\n",
      "----------------\n"
     ]
    }
   ],
   "source": [
    "docs = db.collection(u'new').stream()\n",
    "\n",
    "for doc in docs:\n",
    "    \n",
    "    print(\"ID=\",doc.id)\n",
    "    print(\"First Name=\",doc.to_dict().get(\"firstName\"))\n",
    "    print(\"Last name =\",doc.to_dict().get(\"lastName\"))\n",
    "    print(\"Age=\",doc.to_dict().get(\"age\"))\n",
    "    \n",
    "    print(\"----------------\")\n",
    "    print(\"----------------\")"
   ]
  },
  {
   "cell_type": "code",
   "execution_count": 21,
   "metadata": {},
   "outputs": [],
   "source": [
    "def update(newid,updatedage):\n",
    "     doc_ref = db.collection(u'new').document(newid)\n",
    "    \n",
    "     doc_ref.update({\"age\":updatedage})\n",
    "    "
   ]
  },
  {
   "cell_type": "code",
   "execution_count": 23,
   "metadata": {},
   "outputs": [],
   "source": [
    "update(\"FqKY5wXsQI2UX5yjm71K\",30)"
   ]
  },
  {
   "cell_type": "code",
   "execution_count": 24,
   "metadata": {},
   "outputs": [],
   "source": [
    "update(\"cNz4toVpQpGMk2LxH3R7\",28)"
   ]
  },
  {
   "cell_type": "code",
   "execution_count": 25,
   "metadata": {},
   "outputs": [
    {
     "name": "stdout",
     "output_type": "stream",
     "text": [
      "Enter Name - ajin\n",
      "Enter Last Name - arju\n",
      "Enter Age - 21\n"
     ]
    }
   ],
   "source": [
    "enterDataInDB()\n"
   ]
  },
  {
   "cell_type": "code",
   "execution_count": 26,
   "metadata": {},
   "outputs": [
    {
     "name": "stdout",
     "output_type": "stream",
     "text": [
      "Enter Name - albin\n",
      "Enter Last Name - jose\n",
      "Enter Age - 25\n"
     ]
    }
   ],
   "source": [
    "enterDataInDB()\n"
   ]
  },
  {
   "cell_type": "code",
   "execution_count": 27,
   "metadata": {},
   "outputs": [
    {
     "name": "stdout",
     "output_type": "stream",
     "text": [
      "Enter Name - arjith\n",
      "Enter Last Name - singh\n",
      "Enter Age - 26\n"
     ]
    }
   ],
   "source": [
    "enterDataInDB()"
   ]
  },
  {
   "cell_type": "code",
   "execution_count": 28,
   "metadata": {},
   "outputs": [
    {
     "name": "stdout",
     "output_type": "stream",
     "text": [
      "Enter Name - alby\n",
      "Enter Last Name - arun\n",
      "Enter Age - 25\n"
     ]
    }
   ],
   "source": [
    "enterDataInDB()\n"
   ]
  },
  {
   "cell_type": "code",
   "execution_count": 30,
   "metadata": {},
   "outputs": [],
   "source": [
    "def delete(uid):\n",
    "    db.collection(u'new').document(uid).delete()"
   ]
  },
  {
   "cell_type": "code",
   "execution_count": 31,
   "metadata": {},
   "outputs": [],
   "source": [
    "delete(\"FqKY5wXsQI2UX5yjm71K\")"
   ]
  },
  {
   "cell_type": "code",
   "execution_count": 34,
   "metadata": {},
   "outputs": [
    {
     "name": "stdout",
     "output_type": "stream",
     "text": [
      "Enter Name - sebastian\n",
      "Enter Last Name - sebu\n",
      "Enter Age - 34\n"
     ]
    }
   ],
   "source": [
    "enterDataInDB()"
   ]
  },
  {
   "cell_type": "code",
   "execution_count": 35,
   "metadata": {},
   "outputs": [
    {
     "name": "stdout",
     "output_type": "stream",
     "text": [
      "Enter Name - rahul\n",
      "Enter Last Name - ram\n",
      "Enter Age - 27\n"
     ]
    }
   ],
   "source": [
    "enterDataInDB()\n"
   ]
  },
  {
   "cell_type": "code",
   "execution_count": 36,
   "metadata": {},
   "outputs": [
    {
     "name": "stdout",
     "output_type": "stream",
     "text": [
      "Enter Name - jithin\n",
      "Enter Last Name - ashok\n",
      "Enter Age - 17\n"
     ]
    }
   ],
   "source": [
    "enterDataInDB()"
   ]
  },
  {
   "cell_type": "code",
   "execution_count": 37,
   "metadata": {},
   "outputs": [
    {
     "name": "stdout",
     "output_type": "stream",
     "text": [
      "Enter Name - nikhil\n",
      "Enter Last Name - raj\n",
      "Enter Age - 29\n"
     ]
    }
   ],
   "source": [
    "enterDataInDB()"
   ]
  },
  {
   "cell_type": "code",
   "execution_count": 38,
   "metadata": {},
   "outputs": [],
   "source": [
    "update(\"wrSSvLUlCO3V2LHaQgH5\",30)"
   ]
  },
  {
   "cell_type": "code",
   "execution_count": 39,
   "metadata": {},
   "outputs": [],
   "source": [
    "delete(\"JIcm1DKi0PQkHnOt7mv1\")"
   ]
  },
  {
   "cell_type": "code",
   "execution_count": 40,
   "metadata": {},
   "outputs": [
    {
     "name": "stdout",
     "output_type": "stream",
     "text": [
      "ID= 2bIAvTW20Stw4reXAUBq\n",
      "First Name= rahul\n",
      "Last name = ram\n",
      "Age= 27\n",
      "----------------\n",
      "----------------\n",
      "ID= 3zBl2oPwqT9Tv8LI6Nud\n",
      "First Name= kiran\n",
      "Last name = k\n",
      "Age= 23\n",
      "----------------\n",
      "----------------\n",
      "ID= 5at5TxPwg4boDarlVcO2\n",
      "First Name= albin\n",
      "Last name = jose\n",
      "Age= 25\n",
      "----------------\n",
      "----------------\n",
      "ID= 5maXV2slut7AtNcQZFUf\n",
      "First Name= alby\n",
      "Last name = arun\n",
      "Age= 25\n",
      "----------------\n",
      "----------------\n",
      "ID= CI3cFkSH86dsOC5V5gXw\n",
      "First Name= ajin\n",
      "Last name = arju\n",
      "Age= 21\n",
      "----------------\n",
      "----------------\n",
      "ID= RwZT61jElOzA5aqhJhCc\n",
      "First Name= nikhil\n",
      "Last name = raj\n",
      "Age= 29\n",
      "----------------\n",
      "----------------\n",
      "ID= UE1kTHDteuXSeDDBTo07\n",
      "First Name= sebastian\n",
      "Last name = sebu\n",
      "Age= 34\n",
      "----------------\n",
      "----------------\n",
      "ID= cNz4toVpQpGMk2LxH3R7\n",
      "First Name= jai\n",
      "Last name = lal\n",
      "Age= 28\n",
      "----------------\n",
      "----------------\n",
      "ID= sBeinezSaHdWrFkYjdNr\n",
      "First Name= jithin\n",
      "Last name = ashok\n",
      "Age= 17\n",
      "----------------\n",
      "----------------\n",
      "ID= wrSSvLUlCO3V2LHaQgH5\n",
      "First Name= arjith\n",
      "Last name = singh\n",
      "Age= 30\n",
      "----------------\n",
      "----------------\n"
     ]
    }
   ],
   "source": [
    "docs = db.collection(u'new').stream()\n",
    "\n",
    "for doc in docs:\n",
    "    \n",
    "    print(\"ID=\",doc.id)\n",
    "    print(\"First Name=\",doc.to_dict().get(\"firstName\"))\n",
    "    print(\"Last name =\",doc.to_dict().get(\"lastName\"))\n",
    "    print(\"Age=\",doc.to_dict().get(\"age\"))\n",
    "    \n",
    "    print(\"----------------\")\n",
    "    print(\"----------------\")"
   ]
  },
  {
   "cell_type": "code",
   "execution_count": null,
   "metadata": {},
   "outputs": [],
   "source": []
  }
 ],
 "metadata": {
  "kernelspec": {
   "display_name": "Python 3",
   "language": "python",
   "name": "python3"
  },
  "language_info": {
   "codemirror_mode": {
    "name": "ipython",
    "version": 3
   },
   "file_extension": ".py",
   "mimetype": "text/x-python",
   "name": "python",
   "nbconvert_exporter": "python",
   "pygments_lexer": "ipython3",
   "version": "3.8.3"
  }
 },
 "nbformat": 4,
 "nbformat_minor": 4
}
